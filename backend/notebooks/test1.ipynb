{
  "cells": [
    {
      "id": "512c638e-a984-4826-9ad6-12b64ba92c85",
      "type": "code",
      "content": "",
      "output": {
        "output": "",
        "plot": "",
        "plotly_html": "",
        "status": "idle"
      }
    }
  ]
}