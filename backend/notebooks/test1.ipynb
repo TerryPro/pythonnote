{
  "cells": [
    {
      "id": "512c638e-a984-4826-9ad6-12b64ba92c85",
      "type": "code",
      "content": "# 导入必要的库\r\nimport pandas as pd\r\n\r\n# 加载CSV文件\r\nsensor_data_df = pd.read_csv('data/sensor_data.csv')",
      "output": {
        "output": "",
        "plot": "",
        "plotly_html": "",
        "status": "idle"
      }
    }
  ]
}