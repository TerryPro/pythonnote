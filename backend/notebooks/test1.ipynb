{
  "cells": [
    {
      "id": "512c638e-a984-4826-9ad6-12b64ba92c85",
      "type": "code",
      "content": "# 导入必要的库\r\nimport pandas as pd\r\n\r\n# 加载CSV文件\r\nsensor_data_df = pd.read_csv('data/sensor_data.csv')",
      "output": {
        "output": "",
        "plot": "",
        "plotly_html": "",
        "status": "idle"
      }
    },
    {
      "id": "5dc9eff6-bb72-416a-abbe-ddf753866633",
      "type": "code",
      "content": "# 导入必要的库\nimport pandas as pd\n\n# 加载CSV文件\ncar_1_df = pd.read_csv('data/car_1.csv')\n\n# 显示数据基本信息\nprint(\"数据基本信息：\")\nprint(car_1_df.info())\n\n# 显示前几行数据\nprint(\"\\n数据预览：\")\nprint(car_1_df.head())\n",
      "output": {
        "output": "",
        "plot": "",
        "plotly_html": "",
        "status": "idle"
      }
    },
    {
      "id": "58374a65-0432-4df5-ba61-c0ead4e2fa4f",
      "type": "code",
      "content": "# 数据基本统计分析\nprint(\"基本统计信息：\")\nprint(car_1_df.describe())\n\n# 检查缺失值\nprint(\"\\n缺失值统计：\")\nprint(car_1_df.isnull().sum())\n\n# 数据类型信息\nprint(\"\\n数据类型信息：\")\nprint(car_1_df.dtypes)\n",
      "output": {
        "output": "",
        "plot": "",
        "plotly_html": "",
        "status": "idle"
      }
    },
    {
      "id": "3025d988-e2a4-4e9d-bdfd-0db924caff2d",
      "type": "code",
      "content": "# 导入可视化库\nimport matplotlib.pyplot as plt\nimport seaborn as sns\n\n# 设置中文显示\nplt.rcParams['font.sans-serif'] = ['SimHei']\nplt.rcParams['axes.unicode_minus'] = False\n\n",
      "output": {
        "output": "",
        "plot": "",
        "plotly_html": "",
        "status": "idle"
      }
    }
  ]
}