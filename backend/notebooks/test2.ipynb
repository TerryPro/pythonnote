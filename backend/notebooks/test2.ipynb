{
  "cells": [
    {
      "id": "05249f75-b833-4d37-8024-60eaa590d55a",
      "type": "code",
      "content": "",
      "output": {
        "output": "",
        "plot": "",
        "plotly_html": "",
        "status": "idle"
      }
    }
  ]
}