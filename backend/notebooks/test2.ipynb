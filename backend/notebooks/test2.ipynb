{
  "session_id": "748feec6-80f4-4511-9eeb-0aea48869241",
  "cells": [
    {
      "id": "6064e8c7-7643-486d-a402-ce60e654dde5",
      "type": "code",
      "content": "# 数据基本统计分析\nprint(\"基本统计信息：\")\nprint(car_1_1_1_df.describe())\n\n# 检查缺失值\nprint(\"\\n缺失值统计：\")\nprint(car_1_1_1_df.isnull().sum())\n\n# 数据类型信息\nprint(\"\\n数据类型信息：\")\nprint(car_1_1_1_df.dtypes)\n",
      "output": {
        "output": "",
        "plot": "",
        "plotly_html": "",
        "status": "idle"
      }
    },
    {
      "id": "adfa2267-08e6-4163-8e95-fc63cd98da04",
      "type": "code",
      "content": "# 导入可视化库\nimport matplotlib.pyplot as plt\nimport seaborn as sns\n\n# 设置中文显示\nplt.rcParams['font.sans-serif'] = ['SimHei']\nplt.rcParams['axes.unicode_minus'] = False\n\n",
      "output": {
        "output": "",
        "plot": "",
        "plotly_html": "",
        "status": "idle"
      }
    }
  ]
}