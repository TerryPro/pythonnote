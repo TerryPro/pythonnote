{
  "session_id": "8c6034a2-15c2-4214-838a-c1c436708cb1",
  "cells": [
    {
      "id": "d91b9cfa-4976-49a8-807d-e8b2c1279fed",
      "type": "code",
      "content": "",
      "output": {
        "output": "",
        "plot": "",
        "plotly_html": "",
        "status": "idle"
      }
    }
  ]
}